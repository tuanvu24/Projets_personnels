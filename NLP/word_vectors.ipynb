{
 "cells": [
  {
   "cell_type": "code",
   "execution_count": 18,
   "id": "2b28f0f7-9922-42a6-a531-f92ca6280854",
   "metadata": {},
   "outputs": [],
   "source": [
    "import matplotlib.pyplot as plt\n",
    "import numpy as np\n",
    "import pandas as pd\n",
    "import spacy\n",
    "from thinc.api import get_current_ops"
   ]
  },
  {
   "cell_type": "code",
   "execution_count": 19,
   "id": "3592ce4f-c973-4510-9d62-178abc1f1d5e",
   "metadata": {},
   "outputs": [
    {
     "name": "stdout",
     "output_type": "stream",
     "text": [
      "Backend: CupyOps\n"
     ]
    }
   ],
   "source": [
    "spacy.require_gpu()\n",
    "print(\"Backend:\", type(get_current_ops()).__name__)"
   ]
  },
  {
   "cell_type": "code",
   "execution_count": 20,
   "id": "eb717fae-42f1-43c7-9a08-302a1008be4c",
   "metadata": {},
   "outputs": [
    {
     "name": "stderr",
     "output_type": "stream",
     "text": [
      "/home/vu-tran/Documents/anaconda3/envs/ML/lib/python3.11/site-packages/spacy/util.py:1751: UserWarning: [W111] Jupyter notebook detected: if using `prefer_gpu()` or `require_gpu()`, include it in the same cell right before `spacy.load()` to ensure that the model is loaded on the correct device. More information: http://spacy.io/usage/v3#jupyter-notebook-gpu\n",
      "  warnings.warn(Warnings.W111)\n"
     ]
    },
    {
     "data": {
      "text/html": [
       "<div>\n",
       "<style scoped>\n",
       "    .dataframe tbody tr th:only-of-type {\n",
       "        vertical-align: middle;\n",
       "    }\n",
       "\n",
       "    .dataframe tbody tr th {\n",
       "        vertical-align: top;\n",
       "    }\n",
       "\n",
       "    .dataframe thead th {\n",
       "        text-align: right;\n",
       "    }\n",
       "</style>\n",
       "<table border=\"1\" class=\"dataframe\">\n",
       "  <thead>\n",
       "    <tr style=\"text-align: right;\">\n",
       "      <th></th>\n",
       "      <th>text</th>\n",
       "      <th>stars</th>\n",
       "      <th>sentiment</th>\n",
       "    </tr>\n",
       "  </thead>\n",
       "  <tbody>\n",
       "    <tr>\n",
       "      <th>0</th>\n",
       "      <td>Total bill for this horrible service? Over $8G...</td>\n",
       "      <td>1.0</td>\n",
       "      <td>0</td>\n",
       "    </tr>\n",
       "    <tr>\n",
       "      <th>1</th>\n",
       "      <td>I *adore* Travis at the Hard Rock's new Kelly ...</td>\n",
       "      <td>5.0</td>\n",
       "      <td>1</td>\n",
       "    </tr>\n",
       "    <tr>\n",
       "      <th>2</th>\n",
       "      <td>I have to say that this office really has it t...</td>\n",
       "      <td>5.0</td>\n",
       "      <td>1</td>\n",
       "    </tr>\n",
       "    <tr>\n",
       "      <th>3</th>\n",
       "      <td>Went in for a lunch. Steak sandwich was delici...</td>\n",
       "      <td>5.0</td>\n",
       "      <td>1</td>\n",
       "    </tr>\n",
       "    <tr>\n",
       "      <th>4</th>\n",
       "      <td>Today was my second out of three sessions I ha...</td>\n",
       "      <td>1.0</td>\n",
       "      <td>0</td>\n",
       "    </tr>\n",
       "  </tbody>\n",
       "</table>\n",
       "</div>"
      ],
      "text/plain": [
       "                                                text  stars  sentiment\n",
       "0  Total bill for this horrible service? Over $8G...    1.0          0\n",
       "1  I *adore* Travis at the Hard Rock's new Kelly ...    5.0          1\n",
       "2  I have to say that this office really has it t...    5.0          1\n",
       "3  Went in for a lunch. Steak sandwich was delici...    5.0          1\n",
       "4  Today was my second out of three sessions I ha...    1.0          0"
      ]
     },
     "execution_count": 20,
     "metadata": {},
     "output_type": "execute_result"
    }
   ],
   "source": [
    "# Load the large model to get the vectors\n",
    "nlp = spacy.load('en_core_web_lg')\n",
    "\n",
    "review_data = pd.read_csv('dataset/yelp_ratings.csv')\n",
    "review_data.head()"
   ]
  },
  {
   "cell_type": "code",
   "execution_count": 21,
   "id": "8b6c11e8-c80e-4bf9-9aa7-053fff5b7730",
   "metadata": {},
   "outputs": [
    {
     "data": {
      "text/plain": [
       "0    Total bill for this horrible service? Over $8G...\n",
       "1    I *adore* Travis at the Hard Rock's new Kelly ...\n",
       "Name: text, dtype: object"
      ]
     },
     "execution_count": 21,
     "metadata": {},
     "output_type": "execute_result"
    }
   ],
   "source": [
    "review_data[:2].text"
   ]
  },
  {
   "cell_type": "code",
   "execution_count": 22,
   "id": "c73ad98e-01a2-4c88-8c74-a0fd627876a0",
   "metadata": {},
   "outputs": [
    {
     "data": {
      "text/plain": [
       "(100, 300)"
      ]
     },
     "execution_count": 22,
     "metadata": {},
     "output_type": "execute_result"
    }
   ],
   "source": [
    "reviews = review_data[:100]\n",
    "# We just want the vectors so we can turn off other models in the pipeline\n",
    "with nlp.disable_pipes():\n",
    "    vectors = np.array([nlp(review.text).vector for idx, review in reviews.iterrows()])\n",
    "    \n",
    "vectors.shape"
   ]
  },
  {
   "cell_type": "code",
   "execution_count": 23,
   "id": "dd7273e1-ee72-4521-89cf-c443c215347d",
   "metadata": {},
   "outputs": [
    {
     "data": {
      "text/plain": [
       "(44530, 300)"
      ]
     },
     "execution_count": 23,
     "metadata": {},
     "output_type": "execute_result"
    }
   ],
   "source": [
    "# Loading all document vectors from file\n",
    "vectors = np.load('dataset/review_vectors.npy')\n",
    "vectors.shape"
   ]
  },
  {
   "cell_type": "markdown",
   "id": "f174b0a2-8dcf-4d03-b49b-c2848ad49132",
   "metadata": {},
   "source": [
    "# 1) Training a Model on Document Vectors"
   ]
  },
  {
   "cell_type": "code",
   "execution_count": 24,
   "id": "b2ede5ac-919b-4a5f-94f9-7e2beaacac55",
   "metadata": {},
   "outputs": [
    {
     "name": "stdout",
     "output_type": "stream",
     "text": [
      "Model test accuracy: 93.847%\n"
     ]
    }
   ],
   "source": [
    "from sklearn.svm import LinearSVC\n",
    "from sklearn.model_selection import train_test_split\n",
    "\n",
    "X_train, X_test, y_train, y_test = train_test_split(vectors, review_data.sentiment, \n",
    "                                                    test_size=0.1, random_state=1)\n",
    "\n",
    "# Create the LinearSVC model\n",
    "model = LinearSVC(random_state=1, dual=False)\n",
    "# Fit the model\n",
    "model.fit(X_train, y_train)\n",
    "\n",
    "# Uncomment and run to see model accuracy\n",
    "print(f'Model test accuracy: {model.score(X_test, y_test)*100:.3f}%')"
   ]
  },
  {
   "cell_type": "markdown",
   "id": "8c4e10e5-3621-4ac7-8ab4-beb2974c15e0",
   "metadata": {},
   "source": [
    "# 2) Find the most similar review"
   ]
  },
  {
   "cell_type": "code",
   "execution_count": 28,
   "id": "2aed984a-caa1-421c-bc86-07c886e2f9d9",
   "metadata": {},
   "outputs": [
    {
     "name": "stdout",
     "output_type": "stream",
     "text": [
      "5930\n"
     ]
    }
   ],
   "source": [
    "review = \"\"\"I absolutely love this place. The 360 degree glass windows with the \n",
    "Yerba buena garden view, tea pots all around and the smell of fresh tea everywhere \n",
    "transports you to what feels like a different zen zone within the city. I know \n",
    "the price is slightly more compared to the normal American size, however the food \n",
    "is very wholesome, the tea selection is incredible and I know service can be hit \n",
    "or miss often but it was on point during our most recent visit. Definitely recommend!\n",
    "\n",
    "I would especially recommend the butternut squash gyoza.\"\"\"\n",
    "\n",
    "def cosine_similarity(a, b):\n",
    "    return np.dot(a, b)/np.sqrt(a.dot(a)*b.dot(b))\n",
    "\n",
    "review_vec = nlp(review).vector\n",
    "\n",
    "## Center the document vectors\n",
    "# Calculate the mean for the document vectors, should have shape (300,)\n",
    "vec_mean = vectors.mean(axis=0)\n",
    "# Subtract the mean from the vectors\n",
    "centered = vectors - vec_mean\n",
    "\n",
    "# Calculate similarities for each document in the dataset\n",
    "# Make sure to subtract the mean from the review vector\n",
    "sims = [cosine_similarity(review_vec - vec_mean, vec) for vec in centered]\n",
    "\n",
    "# Get the index for the most similar document\n",
    "most_similar = np.argmax(sims)\n",
    "print(most_similar)"
   ]
  },
  {
   "cell_type": "code",
   "execution_count": 29,
   "id": "b077f283-8ddd-4526-be8f-a2198e44125d",
   "metadata": {},
   "outputs": [
    {
     "name": "stdout",
     "output_type": "stream",
     "text": [
      "After purchasing my final christmas gifts at the Urban Tea Merchant in Vancouver, I was surprised to hear about Teopia at the new outdoor mall at Don Mills and Lawrence when I went back home to Toronto for Christmas.\n",
      "Across from the outdoor skating rink and perfect to sit by the ledge to people watch, the location was prime for tea connesieurs... or people who are just freezing cold in need of a drinK!\n",
      "Like any gourmet tea shop, there were large tins of tea leaves on the walls, and although the tea menu seemed interesting enough, you can get any specialty tea as your drink. We didn't know what to get... so the lady suggested the Goji Berries... it smelled so succulent and juicy... instantly SOLD! I got it into a tea latte and watched the tea steep while the milk was steamed, and surprisingly, with the click of a button, all the water from the tea can be instantly drained into the cup (see photo).. very fascinating!\n",
      "\n",
      "The tea was aromatic and tasty, not over powering. The price was also very reasonable and I recommend everyone to get a taste of this place :)\n"
     ]
    }
   ],
   "source": [
    "print(review_data.iloc[most_similar].text)"
   ]
  }
 ],
 "metadata": {
  "kernelspec": {
   "display_name": "Python (ML)",
   "language": "python",
   "name": "ml"
  },
  "language_info": {
   "codemirror_mode": {
    "name": "ipython",
    "version": 3
   },
   "file_extension": ".py",
   "mimetype": "text/x-python",
   "name": "python",
   "nbconvert_exporter": "python",
   "pygments_lexer": "ipython3",
   "version": "3.11.13"
  }
 },
 "nbformat": 4,
 "nbformat_minor": 5
}
